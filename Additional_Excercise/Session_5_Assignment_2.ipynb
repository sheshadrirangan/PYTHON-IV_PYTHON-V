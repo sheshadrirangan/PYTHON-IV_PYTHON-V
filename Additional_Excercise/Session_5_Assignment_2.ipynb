{
 "cells": [
  {
   "cell_type": "markdown",
   "metadata": {},
   "source": [
    "1) Write a python program which creates a class named Cone and write a function calculate_area which calculates the area of the Cone. "
   ]
  },
  {
   "cell_type": "code",
   "execution_count": 1,
   "metadata": {},
   "outputs": [
    {
     "name": "stdout",
     "output_type": "stream",
     "text": [
      "Please enter the radius of the cone: 4\n",
      "Please enter the height of the cone: 5\n",
      "Area of a cone with radius: 4.0 and height: 5.0 is: 130.72951471480383\n"
     ]
    }
   ],
   "source": [
    "import math\n",
    "class Cone:\n",
    "    def __init__(self, radius, height):\n",
    "        self.radius = int(radius)\n",
    "        self.height = int(height)\n",
    "    \n",
    "    def calculate_area(self):\n",
    "        return math.pi*self.radius*(self.radius + math.sqrt(self.height**2 + self.radius**2))\n",
    "\n",
    "r = input(\"Please enter the radius of the cone: \")\n",
    "h = input(\"Please enter the height of the cone: \")\n",
    "c = Cone(r,h)\n",
    "a = c.calculate_area()\n",
    "print(\"Area of a cone with radius: %s and height: %s is: %s\" % (float(r), float(h), a))"
   ]
  },
  {
   "cell_type": "markdown",
   "metadata": {},
   "source": [
    "2) Define a class MathOperation which implements pow(x,n) without using python's in-built pow() method"
   ]
  },
  {
   "cell_type": "code",
   "execution_count": 2,
   "metadata": {
    "scrolled": true
   },
   "outputs": [
    {
     "name": "stdout",
     "output_type": "stream",
     "text": [
      "8\n",
      "0.008\n",
      "-32\n",
      "-0.008\n",
      "1\n"
     ]
    }
   ],
   "source": [
    "class MathOperation:\n",
    "    def Pow(self, number, power):\n",
    "        return number ** power\n",
    "    \n",
    "m = MathOperation()\n",
    "print(m.Pow(2, 3))\n",
    "print(m.Pow(5, -3))\n",
    "print(m.Pow(-2, 5))\n",
    "print(m.Pow(-5, -3))\n",
    "print(m.Pow(20000, 0))"
   ]
  },
  {
   "cell_type": "markdown",
   "metadata": {},
   "source": [
    "3) Write a python program that creates a class Base and Derived. Use inbuilt function issubclass and isinstance which gives boolean results.(True or False)    \n",
    "\n",
    "Check:    \n",
    "    \n",
    "Derived class is a subclass of Base class which will return true    \n",
    "Base class is a subclass of Derived class which will return false    \n",
    "Base class is an  instance of Derived class which will return false    \n",
    "Derived class is an instance of Base class which will return true\n"
   ]
  },
  {
   "cell_type": "code",
   "execution_count": 3,
   "metadata": {},
   "outputs": [
    {
     "name": "stdout",
     "output_type": "stream",
     "text": [
      "Derived class is a subclass of Base class: True\n",
      "Base class is a subclass of Derived class: False\n",
      "Base class is an instance of Derived class: False\n",
      "Derived class is an instance of Base class: True\n"
     ]
    }
   ],
   "source": [
    "class Base:\n",
    "    def __init__(self, message):\n",
    "        self.message = message\n",
    "\n",
    "class Derived(Base):\n",
    "    def __init__(self, message):\n",
    "        super().__init__(message)\n",
    "        \n",
    "\n",
    "b = Base(\"hi\")\n",
    "d = Derived(\"hi\")\n",
    "\n",
    "print(\"Derived class is a subclass of Base class: %s\" %issubclass(Derived, Base))\n",
    "print(\"Base class is a subclass of Derived class: %s\" %issubclass(Base, Derived))\n",
    "print(\"Base class is an instance of Derived class: %s\" %isinstance(b, Derived))\n",
    "print(\"Derived class is an instance of Base class: %s\" %isinstance(d, Base))"
   ]
  },
  {
   "cell_type": "markdown",
   "metadata": {},
   "source": [
    "4) Write a python program that creates base class Person which has two methods\n",
    "    \n",
    "    def __init__(self, first, last)    \n",
    "    def __str__(self)\n",
    "    \n",
    "Also create a derived class named Employee which uses the base class method “def __str__(self)” using “super()” to concatenate first name wit h last name\n"
   ]
  },
  {
   "cell_type": "code",
   "execution_count": 4,
   "metadata": {},
   "outputs": [
    {
     "name": "stdout",
     "output_type": "stream",
     "text": [
      "Hello Sheshadri Rangan\n"
     ]
    }
   ],
   "source": [
    "class Person:\n",
    "    def __init__(self, first, last):\n",
    "        self.fn = first\n",
    "        self.ln = last\n",
    "        \n",
    "    def __str__(self):\n",
    "        return \"Hello %s %s\" %(self.fn, self.ln)\n",
    "    \n",
    "class Employee(Person):\n",
    "    def __init__(self, first, last):\n",
    "        super().__init__(first, last)\n",
    "        \n",
    "e = Employee(\"Sheshadri\", \"Rangan\")\n",
    "print(e)"
   ]
  },
  {
   "cell_type": "code",
   "execution_count": null,
   "metadata": {},
   "outputs": [],
   "source": []
  }
 ],
 "metadata": {
  "kernelspec": {
   "display_name": "Python 3",
   "language": "python",
   "name": "python3"
  },
  "language_info": {
   "codemirror_mode": {
    "name": "ipython",
    "version": 3
   },
   "file_extension": ".py",
   "mimetype": "text/x-python",
   "name": "python",
   "nbconvert_exporter": "python",
   "pygments_lexer": "ipython3",
   "version": "3.7.0"
  }
 },
 "nbformat": 4,
 "nbformat_minor": 2
}
