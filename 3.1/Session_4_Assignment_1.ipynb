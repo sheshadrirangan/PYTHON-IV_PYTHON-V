{
 "cells": [
  {
   "cell_type": "markdown",
   "metadata": {},
   "source": [
    "1.1  Write a Python Program(with class concepts) to find the area of the triangle using the below formula. \n",
    " \n",
    "area = (s*(s-a)*(s-b)*(s-c)) ** 0.5 \n",
    " \n",
    "Function to take the length of the sides of triangle from user should be defined in the parent class and function to calculate the area should be defined in subclass. "
   ]
  },
  {
   "cell_type": "code",
   "execution_count": 1,
   "metadata": {
    "scrolled": true
   },
   "outputs": [
    {
     "name": "stdout",
     "output_type": "stream",
     "text": [
      "Please enter length of sides : 5,2,4\n",
      "3.799671038392666\n"
     ]
    }
   ],
   "source": [
    "class ParentTriangleClass:\n",
    "    def __init__(self, length_of_sides):\n",
    "        self.length_of_sides = length_of_sides\n",
    "    \n",
    "class TriangleClass:\n",
    "    def __init__(self, length_of_sides):\n",
    "        super(TriangleClass, self).__init__()\n",
    "        self.length_of_sides = length_of_sides\n",
    "        \n",
    "    def GetArea(self):\n",
    "        a, b, c = self.length_of_sides\n",
    "        a = int(a)\n",
    "        b = int(b)\n",
    "        c = int(c)\n",
    "        s = (a + b + c) / 2\n",
    "        return (s*(s-a)*(s-b)*(s-c)) ** 0.5\n",
    "\n",
    "\n",
    "lst_length_sides = input(\"Please enter length of sides : \").split(',')\n",
    "triangleObj = TriangleClass(lst_length_sides)\n",
    "print(triangleObj.GetArea())"
   ]
  },
  {
   "cell_type": "code",
   "execution_count": 2,
   "metadata": {},
   "outputs": [
    {
     "name": "stdout",
     "output_type": "stream",
     "text": [
      "Please enter length of sides : 5,2,4\n",
      "3.799671038392666\n"
     ]
    }
   ],
   "source": [
    "class ParentTriangleClass:\n",
    "    def __init__(self, length_of_sides):\n",
    "        self.length_of_sides = length_of_sides\n",
    "    \n",
    "class TriangleClass(ParentTriangleClass):\n",
    "    def __init__(self, length_of_sides):\n",
    "        super().__init__(length_of_sides)\n",
    "        \n",
    "    def GetArea(self):\n",
    "        a, b, c = self.length_of_sides\n",
    "        a = int(a)\n",
    "        b = int(b)\n",
    "        c = int(c)\n",
    "        s = (a + b + c) / 2\n",
    "        return (s*(s-a)*(s-b)*(s-c)) ** 0.5\n",
    "\n",
    "\n",
    "lst_length_sides = input(\"Please enter length of sides : \").split(',')\n",
    "triangleObj = TriangleClass(lst_length_sides)\n",
    "print(triangleObj.GetArea())"
   ]
  },
  {
   "cell_type": "markdown",
   "metadata": {},
   "source": [
    "1.2  Write a function filter_long_words() that takes a list of words and an integer n and returns the list of words that are longer than n. "
   ]
  },
  {
   "cell_type": "code",
   "execution_count": 3,
   "metadata": {},
   "outputs": [
    {
     "data": {
      "text/plain": [
       "['welcome', 'acadgild']"
      ]
     },
     "execution_count": 3,
     "metadata": {},
     "output_type": "execute_result"
    }
   ],
   "source": [
    "def filter_long_words(lst_words, n):\n",
    "    lst = []\n",
    "    for i in lst_words:\n",
    "        if len(i) > n:\n",
    "            lst.append(i)\n",
    "    \n",
    "    return lst\n",
    "        \n",
    "filter_long_words(['Hello','welcome','to','acadgild'], 5)\n"
   ]
  },
  {
   "cell_type": "code",
   "execution_count": 4,
   "metadata": {},
   "outputs": [
    {
     "data": {
      "text/plain": [
       "['welcome', 'acadgild']"
      ]
     },
     "execution_count": 4,
     "metadata": {},
     "output_type": "execute_result"
    }
   ],
   "source": [
    "def get_long_words(lst, n):\n",
    "    return [i for i in lst if len(i) > n]\n",
    "\n",
    "lst = ['Hello','welcome','to','acadgild']\n",
    "n = 5\n",
    "get_long_words(lst, n)"
   ]
  },
  {
   "cell_type": "markdown",
   "metadata": {},
   "source": [
    "2.1  Write a Python program using function concept that maps  list of words into a list of integers representing the lengths of the corresponding words​. \n",
    "\n",
    " Hint: ​If a list [ ab,cde,erty] is passed on to the python function output should come as [2,3,4] \n",
    "\n",
    " Here 2,3 and 4 are the lengths of the words in the list. \n",
    " "
   ]
  },
  {
   "cell_type": "code",
   "execution_count": 5,
   "metadata": {},
   "outputs": [
    {
     "data": {
      "text/plain": [
       "[5, 7, 2, 8]"
      ]
     },
     "execution_count": 5,
     "metadata": {},
     "output_type": "execute_result"
    }
   ],
   "source": [
    "def len_of_words(lst):\n",
    "    l = []\n",
    "    for i in lst:\n",
    "        l.append(len(i))\n",
    "    \n",
    "    return l\n",
    "    \n",
    "len_of_words(['Hello','welcome','to','acadgild'])"
   ]
  },
  {
   "cell_type": "code",
   "execution_count": 6,
   "metadata": {},
   "outputs": [
    {
     "data": {
      "text/plain": [
       "[5, 7, 2, 8]"
      ]
     },
     "execution_count": 6,
     "metadata": {},
     "output_type": "execute_result"
    }
   ],
   "source": [
    "def get_len_of_words(lst):\n",
    "    return [len(i) for i in lst]\n",
    "\n",
    "get_len_of_words(['Hello','welcome','to','acadgild'])"
   ]
  },
  {
   "cell_type": "markdown",
   "metadata": {},
   "source": [
    "2.2  Write a Python function which takes a character (i.e. a string of length 1) and returns True if it is a vowel, False otherwise. "
   ]
  },
  {
   "cell_type": "code",
   "execution_count": 7,
   "metadata": {},
   "outputs": [
    {
     "data": {
      "text/plain": [
       "True"
      ]
     },
     "execution_count": 7,
     "metadata": {},
     "output_type": "execute_result"
    }
   ],
   "source": [
    "def vowel_check(st):\n",
    "    vowel = ['a','e','i','o','u']\n",
    "    return True if st.lower() in vowel else False\n",
    "    \n",
    "res = vowel_check(\"A\")\n",
    "res"
   ]
  },
  {
   "cell_type": "code",
   "execution_count": null,
   "metadata": {},
   "outputs": [],
   "source": []
  }
 ],
 "metadata": {
  "kernelspec": {
   "display_name": "Python 3",
   "language": "python",
   "name": "python3"
  },
  "language_info": {
   "codemirror_mode": {
    "name": "ipython",
    "version": 3
   },
   "file_extension": ".py",
   "mimetype": "text/x-python",
   "name": "python",
   "nbconvert_exporter": "python",
   "pygments_lexer": "ipython3",
   "version": "3.7.0"
  }
 },
 "nbformat": 4,
 "nbformat_minor": 2
}
